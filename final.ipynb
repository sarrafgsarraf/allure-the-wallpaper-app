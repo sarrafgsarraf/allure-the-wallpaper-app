{
 "cells": [
  {
   "cell_type": "code",
   "execution_count": 2,
   "metadata": {},
   "outputs": [],
   "source": [
    "import ctypes\n",
    "import time\n",
    "import os\n",
    "import requests as requests\n",
    "import urllib.request as url\n",
    "from win10toast import ToastNotifier"
   ]
  },
  {
   "cell_type": "code",
   "execution_count": 3,
   "metadata": {},
   "outputs": [],
   "source": [
    "directory = 'C:\\\\Users\\\\sarra\\\\Downloads\\\\wall\\\\'\n",
    "toaster = ToastNotifier()\n",
    "play_list = []\n",
    "uploaded_by = []\n",
    "buff_img = 12\n",
    "interval = 5    #in mins\n",
    "keyword = 'desert'\n",
    "access_key = '6aade448e73df408614baa222e14f9d808eccebd90f20e10f9f1b04a8ced2c9c'"
   ]
  },
  {
   "cell_type": "code",
   "execution_count": 4,
   "metadata": {},
   "outputs": [],
   "source": [
    "def changeBG(imagePath):\n",
    "    SPI_SETDESKWALLPAPER = 20\n",
    "    ctypes.windll.user32.SystemParametersInfoW(SPI_SETDESKWALLPAPER, 0, imagePath , 0)\n",
    "    return;"
   ]
  },
  {
   "cell_type": "code",
   "execution_count": 5,
   "metadata": {},
   "outputs": [],
   "source": [
    "def request():\n",
    "    r = requests.get('https://api.unsplash.com/photos/random?orientation=landscape&query=' + keyword + '&count=' + str(buff_img) + '&client_id=' + access_key)\n",
    "    data = r.json()\n",
    "    del play_list[:]\n",
    "    for img_data in data:\n",
    "        file_name = str(img_data['id']) + \".jpg\"\n",
    "        img_url = img_data['urls']['raw']\n",
    "        suffix = '&q=80&fm=jpg&crop=entropy&cs-tinysrgb&w=1920&fit=max'\n",
    "        img_url = img_url + suffix\n",
    "        url.urlretrieve(img_url, file_name)\n",
    "        play_list.append(file_name)\n",
    "        uploaded_by.append(img_data['user']['name'])"
   ]
  },
  {
   "cell_type": "code",
   "execution_count": 6,
   "metadata": {},
   "outputs": [
    {
     "ename": "KeyboardInterrupt",
     "evalue": "",
     "output_type": "error",
     "traceback": [
      "\u001b[1;31m---------------------------------------------------------------------------\u001b[0m",
      "\u001b[1;31mKeyboardInterrupt\u001b[0m                         Traceback (most recent call last)",
      "\u001b[1;32m<ipython-input-6-54215b1877c2>\u001b[0m in \u001b[0;36m<module>\u001b[1;34m\u001b[0m\n\u001b[0;32m      5\u001b[0m         \u001b[0mchangeBG\u001b[0m\u001b[1;33m(\u001b[0m\u001b[0mimagePath\u001b[0m\u001b[1;33m)\u001b[0m\u001b[1;33m\u001b[0m\u001b[1;33m\u001b[0m\u001b[0m\n\u001b[0;32m      6\u001b[0m         \u001b[0mtoaster\u001b[0m\u001b[1;33m.\u001b[0m\u001b[0mshow_toast\u001b[0m\u001b[1;33m(\u001b[0m\u001b[1;34m\"Allure\"\u001b[0m\u001b[1;33m,\u001b[0m\u001b[1;34m\"by \"\u001b[0m \u001b[1;33m+\u001b[0m \u001b[0mj\u001b[0m \u001b[1;33m+\u001b[0m \u001b[1;34m\" via Unsplash.com\"\u001b[0m\u001b[1;33m,\u001b[0m \u001b[0micon_path\u001b[0m\u001b[1;33m=\u001b[0m\u001b[1;34m\"allure.ico\"\u001b[0m\u001b[1;33m)\u001b[0m\u001b[1;33m\u001b[0m\u001b[1;33m\u001b[0m\u001b[0m\n\u001b[1;32m----> 7\u001b[1;33m         \u001b[0mtime\u001b[0m\u001b[1;33m.\u001b[0m\u001b[0msleep\u001b[0m\u001b[1;33m(\u001b[0m\u001b[0minterval\u001b[0m \u001b[1;33m*\u001b[0m \u001b[1;36m60\u001b[0m\u001b[1;33m)\u001b[0m\u001b[1;33m\u001b[0m\u001b[1;33m\u001b[0m\u001b[0m\n\u001b[0m\u001b[0;32m      8\u001b[0m         \u001b[0mos\u001b[0m\u001b[1;33m.\u001b[0m\u001b[0mremove\u001b[0m\u001b[1;33m(\u001b[0m\u001b[0mi\u001b[0m\u001b[1;33m)\u001b[0m\u001b[1;33m\u001b[0m\u001b[1;33m\u001b[0m\u001b[0m\n\u001b[0;32m      9\u001b[0m         \u001b[1;32mif\u001b[0m \u001b[0mplay_list\u001b[0m\u001b[1;33m.\u001b[0m\u001b[0mindex\u001b[0m\u001b[1;33m(\u001b[0m\u001b[0mi\u001b[0m\u001b[1;33m)\u001b[0m \u001b[1;33m==\u001b[0m \u001b[0mbuff_img\u001b[0m \u001b[1;33m-\u001b[0m \u001b[1;36m1\u001b[0m\u001b[1;33m:\u001b[0m\u001b[1;33m\u001b[0m\u001b[1;33m\u001b[0m\u001b[0m\n",
      "\u001b[1;31mKeyboardInterrupt\u001b[0m: "
     ]
    }
   ],
   "source": [
    "request()\n",
    "while True:\n",
    "    for i,j in zip(play_list,uploaded_by):\n",
    "        imagePath = directory + '\\\\' + i\n",
    "        changeBG(imagePath)\n",
    "        toaster.show_toast(\"Allure\",\"by \" + j + \" via Unsplash.com\", icon_path=\"allure.ico\")\n",
    "        time.sleep(interval * 60)\n",
    "        os.remove(i)\n",
    "        if play_list.index(i) == buff_img - 1:\n",
    "            request()\n",
    "            break"
   ]
  },
  {
   "cell_type": "code",
   "execution_count": null,
   "metadata": {},
   "outputs": [],
   "source": []
  }
 ],
 "metadata": {
  "kernelspec": {
   "display_name": "Python 3",
   "language": "python",
   "name": "python3"
  },
  "language_info": {
   "codemirror_mode": {
    "name": "ipython",
    "version": 3
   },
   "file_extension": ".py",
   "mimetype": "text/x-python",
   "name": "python",
   "nbconvert_exporter": "python",
   "pygments_lexer": "ipython3",
   "version": "3.7.3"
  }
 },
 "nbformat": 4,
 "nbformat_minor": 2
}
